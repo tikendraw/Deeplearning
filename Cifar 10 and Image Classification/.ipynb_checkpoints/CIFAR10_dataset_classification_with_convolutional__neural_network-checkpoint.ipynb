{
 "cells": [
  {
   "cell_type": "markdown",
   "metadata": {
    "colab_type": "text",
    "id": "view-in-github"
   },
   "source": [
    "<a href=\"https://colab.research.google.com/github/tikendraw/Deeplearning/blob/main/CIFAR10_dataset_classification_with_convolutional__neural_network.ipynb\" target=\"_parent\"><img src=\"https://colab.research.google.com/assets/colab-badge.svg\" alt=\"Open In Colab\"/></a>"
   ]
  },
  {
   "cell_type": "code",
   "execution_count": null,
   "metadata": {
    "id": "CSJyCB_H8OD4"
   },
   "outputs": [],
   "source": [
    "import tensorflow as tf\n",
    "import tensorflow.keras as keras\n",
    "import numpy as np\n",
    "import pandas  as pd\n",
    "import os\n",
    "from tensorflow.keras.datasets import cifar10"
   ]
  },
  {
   "cell_type": "markdown",
   "metadata": {
    "id": "T3P75LiZ9EO1"
   },
   "source": [
    "# Loading the data"
   ]
  },
  {
   "cell_type": "code",
   "execution_count": null,
   "metadata": {
    "colab": {
     "base_uri": "https://localhost:8080/"
    },
    "id": "a5tOS5ec9Qy2",
    "outputId": "97d1935a-b5d4-492f-e4fb-ca6779b4b93a"
   },
   "outputs": [
    {
     "name": "stdout",
     "output_type": "stream",
     "text": [
      "Downloading data from https://www.cs.toronto.edu/~kriz/cifar-10-python.tar.gz\n",
      "170500096/170498071 [==============================] - 2s 0us/step\n",
      "170508288/170498071 [==============================] - 2s 0us/step\n"
     ]
    }
   ],
   "source": [
    "(xtrain,ytrain),(xtest,ytest) = cifar10.load_data()"
   ]
  },
  {
   "cell_type": "code",
   "execution_count": null,
   "metadata": {
    "colab": {
     "base_uri": "https://localhost:8080/"
    },
    "id": "zcO4V_0gqtEQ",
    "outputId": "bb0a3071-4554-4221-de59-c2acbba18a5e"
   },
   "outputs": [
    {
     "data": {
      "text/plain": [
       "((50000, 32, 32, 3), (50000, 1), (10000, 32, 32, 3), (10000, 1))"
      ]
     },
     "execution_count": 3,
     "metadata": {},
     "output_type": "execute_result"
    }
   ],
   "source": [
    "xtrain.shape, ytrain.shape, xtest.shape,ytest.shape"
   ]
  },
  {
   "cell_type": "markdown",
   "metadata": {
    "id": "I28LnQmfq7HS"
   },
   "source": [
    "## normalize the data"
   ]
  },
  {
   "cell_type": "code",
   "execution_count": null,
   "metadata": {
    "id": "tPRPsXzIrA6X"
   },
   "outputs": [],
   "source": [
    "xtrain = xtrain.astype('float32')/255\n",
    "xtest = xtest.astype('float32')/255\n",
    "ytrain = ytrain.astype('float32')\n",
    "ytest = ytest.astype('float32')"
   ]
  },
  {
   "cell_type": "code",
   "execution_count": null,
   "metadata": {
    "colab": {
     "base_uri": "https://localhost:8080/"
    },
    "id": "bSIquIahrcux",
    "outputId": "788a1d10-bf8b-4b61-98cc-9e90e4517767"
   },
   "outputs": [
    {
     "data": {
      "text/plain": [
       "array([[[0.6039216 , 0.69411767, 0.73333335],\n",
       "        [0.49411765, 0.5372549 , 0.53333336],\n",
       "        [0.4117647 , 0.40784314, 0.37254903],\n",
       "        ...,\n",
       "        [0.35686275, 0.37254903, 0.2784314 ],\n",
       "        [0.34117648, 0.3529412 , 0.2784314 ],\n",
       "        [0.30980393, 0.31764707, 0.27450982]],\n",
       "\n",
       "       [[0.54901963, 0.627451  , 0.6627451 ],\n",
       "        [0.5686275 , 0.6       , 0.6039216 ],\n",
       "        [0.49019608, 0.49019608, 0.4627451 ],\n",
       "        ...,\n",
       "        [0.3764706 , 0.3882353 , 0.30588236],\n",
       "        [0.3019608 , 0.3137255 , 0.24313726],\n",
       "        [0.2784314 , 0.28627452, 0.23921569]],\n",
       "\n",
       "       [[0.54901963, 0.60784316, 0.6431373 ],\n",
       "        [0.54509807, 0.57254905, 0.58431375],\n",
       "        [0.4509804 , 0.4509804 , 0.4392157 ],\n",
       "        ...,\n",
       "        [0.30980393, 0.32156864, 0.2509804 ],\n",
       "        [0.26666668, 0.27450982, 0.21568628],\n",
       "        [0.2627451 , 0.27058825, 0.21568628]],\n",
       "\n",
       "       ...,\n",
       "\n",
       "       [[0.6862745 , 0.654902  , 0.6509804 ],\n",
       "        [0.6117647 , 0.6039216 , 0.627451  ],\n",
       "        [0.6039216 , 0.627451  , 0.6666667 ],\n",
       "        ...,\n",
       "        [0.16470589, 0.13333334, 0.14117648],\n",
       "        [0.23921569, 0.20784314, 0.22352941],\n",
       "        [0.3647059 , 0.3254902 , 0.35686275]],\n",
       "\n",
       "       [[0.64705884, 0.6039216 , 0.5019608 ],\n",
       "        [0.6117647 , 0.59607846, 0.50980395],\n",
       "        [0.62352943, 0.6313726 , 0.5568628 ],\n",
       "        ...,\n",
       "        [0.40392157, 0.3647059 , 0.3764706 ],\n",
       "        [0.48235294, 0.44705883, 0.47058824],\n",
       "        [0.5137255 , 0.4745098 , 0.5137255 ]],\n",
       "\n",
       "       [[0.6392157 , 0.5803922 , 0.47058824],\n",
       "        [0.61960787, 0.5803922 , 0.47843137],\n",
       "        [0.6392157 , 0.6117647 , 0.52156866],\n",
       "        ...,\n",
       "        [0.56078434, 0.52156866, 0.54509807],\n",
       "        [0.56078434, 0.5254902 , 0.5568628 ],\n",
       "        [0.56078434, 0.52156866, 0.5647059 ]]], dtype=float32)"
      ]
     },
     "execution_count": 5,
     "metadata": {},
     "output_type": "execute_result"
    }
   ],
   "source": [
    "xtrain[1]"
   ]
  },
  {
   "cell_type": "code",
   "execution_count": null,
   "metadata": {
    "colab": {
     "base_uri": "https://localhost:8080/"
    },
    "id": "oQ0MXwmAri62",
    "outputId": "92dafee2-72d3-4b75-8b8e-c53a4d0df095"
   },
   "outputs": [
    {
     "data": {
      "text/plain": [
       "array([[6.],\n",
       "       [9.],\n",
       "       [9.],\n",
       "       ...,\n",
       "       [9.],\n",
       "       [1.],\n",
       "       [1.]], dtype=float32)"
      ]
     },
     "execution_count": 6,
     "metadata": {},
     "output_type": "execute_result"
    }
   ],
   "source": [
    "ytrain[:]"
   ]
  },
  {
   "cell_type": "code",
   "execution_count": null,
   "metadata": {
    "id": "IXfhwPFZsGhV"
   },
   "outputs": [],
   "source": []
  },
  {
   "cell_type": "markdown",
   "metadata": {
    "id": "ea-YlC7_ro3d"
   },
   "source": [
    "# Build the model"
   ]
  },
  {
   "cell_type": "code",
   "execution_count": null,
   "metadata": {
    "id": "mPiZG9EHryNE"
   },
   "outputs": [],
   "source": [
    "model = keras.Sequential()\n",
    "model.add(keras.layers.Flatten(input_shape = (32,32,3),name = 'flat'))\n",
    "model.add(keras.layers.Dense(32,activation='elu',name = 'first'))\n",
    "model.add(keras.layers.Dense(16,activation='elu',name = 'second'))\n",
    "model.add(keras.layers.Dense(10,activation='softmax',name = 'output'))\n",
    "\n",
    "model.compile(loss = keras.losses.SparseCategoricalCrossentropy(),\n",
    "              optimizer = keras.optimizers.Adagrad(),\n",
    "              metrics = ['accuracy'])\n",
    "\n",
    "history = model.fit(xtrain,ytrain,epochs = 100)"
   ]
  },
  {
   "cell_type": "code",
   "execution_count": null,
   "metadata": {
    "id": "H2KAb6bPtY1l"
   },
   "outputs": [],
   "source": [
    "classes = ['airplane'\t\t\t\t\t\t\t\t\t\t\n",
    ",'automobile'\t\t\t\t\t\t\t\t\t\t\n",
    ",'bird'\t\t\t\t\t\t\t\t\t\t\n",
    ",'cat'\t\t\t\t\t\t\t\t\t\t\n",
    ",'deer'\t\t\t\t\t\t\t\t\t\t\n",
    ",'dog'\t\t\t\t\t\t\t\t\t\t\n",
    ",'frog'\t\t\t\t\t\t\t\t\t\t\n",
    ",'horse'\t\t\t\t\t\t\t\t\t\t\n",
    ",'ship'\t\t\t\t\t\t\t\t\t\t\n",
    ",'truck']"
   ]
  },
  {
   "cell_type": "code",
   "execution_count": null,
   "metadata": {
    "id": "LE5rCppZxq54"
   },
   "outputs": [],
   "source": [
    "pred = model.predict(xtest)"
   ]
  },
  {
   "cell_type": "code",
   "execution_count": null,
   "metadata": {
    "colab": {
     "base_uri": "https://localhost:8080/"
    },
    "id": "LpW4Px0uxxdE",
    "outputId": "a9f470a5-6f05-41d7-dbdf-09d7699c1d9d"
   },
   "outputs": [
    {
     "data": {
      "text/plain": [
       "<tf.Tensor: shape=(), dtype=int64, numpy=4>"
      ]
     },
     "execution_count": 11,
     "metadata": {},
     "output_type": "execute_result"
    }
   ],
   "source": [
    "tf.argmax(pred[4])"
   ]
  },
  {
   "cell_type": "code",
   "execution_count": null,
   "metadata": {
    "colab": {
     "base_uri": "https://localhost:8080/"
    },
    "id": "ZPqFEhjsx3Wl",
    "outputId": "de527e0e-03e9-4ab7-e4a6-e1c1ca9e4a25"
   },
   "outputs": [
    {
     "data": {
      "text/plain": [
       "array([6.], dtype=float32)"
      ]
     },
     "execution_count": 12,
     "metadata": {},
     "output_type": "execute_result"
    }
   ],
   "source": [
    "ytest[4]"
   ]
  },
  {
   "cell_type": "code",
   "execution_count": null,
   "metadata": {
    "colab": {
     "base_uri": "https://localhost:8080/"
    },
    "id": "sZjNLMtWyMvb",
    "outputId": "56dce593-34d6-4e73-ee1e-669fb5ca9492"
   },
   "outputs": [
    {
     "name": "stdout",
     "output_type": "stream",
     "text": [
      "313/313 [==============================] - 1s 3ms/step - loss: 1.6455 - accuracy: 0.4311\n"
     ]
    },
    {
     "data": {
      "text/plain": [
       "[1.645490050315857, 0.4311000108718872]"
      ]
     },
     "execution_count": 13,
     "metadata": {},
     "output_type": "execute_result"
    }
   ],
   "source": [
    "model.evaluate(xtest,ytest)"
   ]
  },
  {
   "cell_type": "code",
   "execution_count": null,
   "metadata": {
    "id": "SG7ncKUiybje"
   },
   "outputs": [],
   "source": []
  },
  {
   "cell_type": "markdown",
   "metadata": {
    "id": "G4FwJoF5ygrS"
   },
   "source": [
    "# Building the model with convolutional network"
   ]
  },
  {
   "cell_type": "code",
   "execution_count": null,
   "metadata": {
    "colab": {
     "base_uri": "https://localhost:8080/"
    },
    "id": "i9a2PhE5yo7S",
    "outputId": "b40952d0-9836-43fb-cfa0-cc5dd4c257d6"
   },
   "outputs": [
    {
     "name": "stdout",
     "output_type": "stream",
     "text": [
      "1563/1563 [==============================] - 9s 6ms/step - loss: 0.0848 - accuracy: 0.9733\n",
      "Epoch 87/200\n",
      "1563/1563 [==============================] - 9s 6ms/step - loss: 0.0773 - accuracy: 0.9753\n",
      "Epoch 88/200\n",
      "1563/1563 [==============================] - 9s 6ms/step - loss: 0.0770 - accuracy: 0.9753\n",
      "Epoch 89/200\n",
      "1563/1563 [==============================] - 10s 6ms/step - loss: 0.0754 - accuracy: 0.9755\n",
      "Epoch 90/200\n",
      "1563/1563 [==============================] - 9s 6ms/step - loss: 0.0737 - accuracy: 0.9758\n",
      "Epoch 91/200\n",
      "1563/1563 [==============================] - 9s 6ms/step - loss: 0.0794 - accuracy: 0.9752\n",
      "Epoch 92/200\n",
      "1563/1563 [==============================] - 9s 6ms/step - loss: 0.0678 - accuracy: 0.9783\n",
      "Epoch 93/200\n",
      "1563/1563 [==============================] - 9s 6ms/step - loss: 0.0781 - accuracy: 0.9759\n",
      "Epoch 94/200\n",
      "1563/1563 [==============================] - 9s 6ms/step - loss: 0.0694 - accuracy: 0.9776\n",
      "Epoch 95/200\n",
      "1563/1563 [==============================] - 9s 6ms/step - loss: 0.0809 - accuracy: 0.9741\n",
      "Epoch 96/200\n",
      "1563/1563 [==============================] - 9s 6ms/step - loss: 0.0676 - accuracy: 0.9782\n",
      "Epoch 97/200\n",
      "1563/1563 [==============================] - 9s 6ms/step - loss: 0.0655 - accuracy: 0.9795\n",
      "Epoch 98/200\n",
      "1563/1563 [==============================] - 9s 6ms/step - loss: 0.0694 - accuracy: 0.9780\n",
      "Epoch 99/200\n",
      "1563/1563 [==============================] - 9s 6ms/step - loss: 0.0802 - accuracy: 0.9746\n",
      "Epoch 100/200\n",
      "1563/1563 [==============================] - 9s 6ms/step - loss: 0.0716 - accuracy: 0.9778\n",
      "Epoch 101/200\n",
      "1563/1563 [==============================] - 9s 6ms/step - loss: 0.0649 - accuracy: 0.9798\n",
      "Epoch 102/200\n",
      "1563/1563 [==============================] - 9s 6ms/step - loss: 0.0731 - accuracy: 0.9771\n",
      "Epoch 103/200\n",
      "1563/1563 [==============================] - 9s 6ms/step - loss: 0.0682 - accuracy: 0.9786\n",
      "Epoch 104/200\n",
      "1563/1563 [==============================] - 9s 6ms/step - loss: 0.0555 - accuracy: 0.9816\n",
      "Epoch 105/200\n",
      "1563/1563 [==============================] - 9s 6ms/step - loss: 0.0739 - accuracy: 0.9772\n",
      "Epoch 106/200\n",
      "1563/1563 [==============================] - 9s 6ms/step - loss: 0.0672 - accuracy: 0.9791\n",
      "Epoch 107/200\n",
      "1563/1563 [==============================] - 9s 6ms/step - loss: 0.0660 - accuracy: 0.9790\n",
      "Epoch 108/200\n",
      "1563/1563 [==============================] - 9s 6ms/step - loss: 0.0678 - accuracy: 0.9784\n",
      "Epoch 109/200\n",
      "1563/1563 [==============================] - 9s 6ms/step - loss: 0.0664 - accuracy: 0.9796\n",
      "Epoch 110/200\n",
      "1563/1563 [==============================] - 9s 6ms/step - loss: 0.0621 - accuracy: 0.9812\n",
      "Epoch 111/200\n",
      "1563/1563 [==============================] - 10s 6ms/step - loss: 0.0621 - accuracy: 0.9801\n",
      "Epoch 112/200\n",
      "1563/1563 [==============================] - 9s 6ms/step - loss: 0.0637 - accuracy: 0.9806\n",
      "Epoch 113/200\n",
      "1563/1563 [==============================] - 9s 6ms/step - loss: 0.0668 - accuracy: 0.9792\n",
      "Epoch 114/200\n",
      "1563/1563 [==============================] - 10s 6ms/step - loss: 0.0706 - accuracy: 0.9787\n",
      "Epoch 115/200\n",
      "1563/1563 [==============================] - 9s 6ms/step - loss: 0.0586 - accuracy: 0.9815\n",
      "Epoch 116/200\n",
      "1563/1563 [==============================] - 10s 6ms/step - loss: 0.0693 - accuracy: 0.9790\n",
      "Epoch 117/200\n",
      "1563/1563 [==============================] - 9s 6ms/step - loss: 0.0637 - accuracy: 0.9814\n",
      "Epoch 118/200\n",
      "1563/1563 [==============================] - 9s 6ms/step - loss: 0.0580 - accuracy: 0.9820\n",
      "Epoch 119/200\n",
      "1563/1563 [==============================] - 9s 6ms/step - loss: 0.0597 - accuracy: 0.9816\n",
      "Epoch 120/200\n",
      "1563/1563 [==============================] - 9s 6ms/step - loss: 0.0643 - accuracy: 0.9807\n",
      "Epoch 121/200\n",
      "1563/1563 [==============================] - 10s 6ms/step - loss: 0.0551 - accuracy: 0.9837\n",
      "Epoch 122/200\n",
      "1563/1563 [==============================] - 10s 6ms/step - loss: 0.0744 - accuracy: 0.9792\n",
      "Epoch 123/200\n",
      "1563/1563 [==============================] - 9s 6ms/step - loss: 0.0559 - accuracy: 0.9827\n",
      "Epoch 124/200\n",
      "1563/1563 [==============================] - 9s 6ms/step - loss: 0.0720 - accuracy: 0.9784\n",
      "Epoch 125/200\n",
      "1563/1563 [==============================] - 9s 6ms/step - loss: 0.0505 - accuracy: 0.9837\n",
      "Epoch 126/200\n",
      "1563/1563 [==============================] - 9s 6ms/step - loss: 0.0610 - accuracy: 0.9820\n",
      "Epoch 127/200\n",
      "1563/1563 [==============================] - 9s 6ms/step - loss: 0.0629 - accuracy: 0.9810\n",
      "Epoch 128/200\n",
      "1563/1563 [==============================] - 9s 6ms/step - loss: 0.0586 - accuracy: 0.9827\n",
      "Epoch 129/200\n",
      "1563/1563 [==============================] - 9s 6ms/step - loss: 0.0644 - accuracy: 0.9815\n",
      "Epoch 130/200\n",
      "1563/1563 [==============================] - 9s 6ms/step - loss: 0.0500 - accuracy: 0.9845\n",
      "Epoch 131/200\n",
      "1563/1563 [==============================] - 9s 6ms/step - loss: 0.0573 - accuracy: 0.9832\n",
      "Epoch 132/200\n",
      "1563/1563 [==============================] - 9s 6ms/step - loss: 0.0633 - accuracy: 0.9820\n",
      "Epoch 133/200\n",
      "1563/1563 [==============================] - 9s 6ms/step - loss: 0.0546 - accuracy: 0.9837\n",
      "Epoch 134/200\n",
      "1563/1563 [==============================] - 9s 6ms/step - loss: 0.0601 - accuracy: 0.9821\n",
      "Epoch 135/200\n",
      "1563/1563 [==============================] - 9s 6ms/step - loss: 0.0636 - accuracy: 0.9819\n",
      "Epoch 136/200\n",
      "1563/1563 [==============================] - 9s 6ms/step - loss: 0.0590 - accuracy: 0.9834\n",
      "Epoch 137/200\n",
      "1563/1563 [==============================] - 9s 6ms/step - loss: 0.0606 - accuracy: 0.9826\n",
      "Epoch 138/200\n",
      "1563/1563 [==============================] - 9s 6ms/step - loss: 0.0547 - accuracy: 0.9842\n",
      "Epoch 139/200\n",
      "1563/1563 [==============================] - 9s 6ms/step - loss: 0.0557 - accuracy: 0.9841\n",
      "Epoch 140/200\n",
      "1563/1563 [==============================] - 9s 6ms/step - loss: 0.0610 - accuracy: 0.9828\n",
      "Epoch 141/200\n",
      "1563/1563 [==============================] - 9s 6ms/step - loss: 0.0540 - accuracy: 0.9842\n",
      "Epoch 142/200\n",
      "1563/1563 [==============================] - 9s 6ms/step - loss: 0.0550 - accuracy: 0.9838\n",
      "Epoch 143/200\n",
      "1563/1563 [==============================] - 9s 6ms/step - loss: 0.0574 - accuracy: 0.9837\n",
      "Epoch 144/200\n",
      "1563/1563 [==============================] - 9s 6ms/step - loss: 0.0580 - accuracy: 0.9836\n",
      "Epoch 145/200\n",
      "1563/1563 [==============================] - 9s 6ms/step - loss: 0.0501 - accuracy: 0.9847\n",
      "Epoch 146/200\n",
      "1563/1563 [==============================] - 9s 6ms/step - loss: 0.0552 - accuracy: 0.9841\n",
      "Epoch 147/200\n",
      "1563/1563 [==============================] - 9s 6ms/step - loss: 0.0569 - accuracy: 0.9837\n",
      "Epoch 148/200\n",
      "1563/1563 [==============================] - 9s 6ms/step - loss: 0.0644 - accuracy: 0.9815\n",
      "Epoch 149/200\n",
      "1563/1563 [==============================] - 9s 6ms/step - loss: 0.0483 - accuracy: 0.9864\n",
      "Epoch 150/200\n",
      "1563/1563 [==============================] - 9s 6ms/step - loss: 0.0594 - accuracy: 0.9830\n",
      "Epoch 151/200\n",
      "1563/1563 [==============================] - 9s 6ms/step - loss: 0.0508 - accuracy: 0.9849\n",
      "Epoch 152/200\n",
      "1563/1563 [==============================] - 9s 6ms/step - loss: 0.0545 - accuracy: 0.9846\n",
      "Epoch 153/200\n",
      "1563/1563 [==============================] - 9s 6ms/step - loss: 0.0519 - accuracy: 0.9859\n",
      "Epoch 154/200\n",
      "1563/1563 [==============================] - 10s 6ms/step - loss: 0.0534 - accuracy: 0.9843\n",
      "Epoch 155/200\n",
      "1563/1563 [==============================] - 10s 6ms/step - loss: 0.0537 - accuracy: 0.9851\n",
      "Epoch 156/200\n",
      "1563/1563 [==============================] - 9s 6ms/step - loss: 0.0551 - accuracy: 0.9845\n",
      "Epoch 157/200\n",
      "1563/1563 [==============================] - 9s 6ms/step - loss: 0.0587 - accuracy: 0.9841\n",
      "Epoch 158/200\n",
      "1563/1563 [==============================] - 10s 6ms/step - loss: 0.0528 - accuracy: 0.9856\n",
      "Epoch 159/200\n",
      "1563/1563 [==============================] - 10s 6ms/step - loss: 0.0544 - accuracy: 0.9849\n",
      "Epoch 160/200\n",
      "1563/1563 [==============================] - 10s 6ms/step - loss: 0.0506 - accuracy: 0.9854\n",
      "Epoch 161/200\n",
      "1563/1563 [==============================] - 10s 6ms/step - loss: 0.0423 - accuracy: 0.9870\n",
      "Epoch 162/200\n",
      "1563/1563 [==============================] - 10s 6ms/step - loss: 0.0622 - accuracy: 0.9839\n",
      "Epoch 163/200\n",
      "1563/1563 [==============================] - 9s 6ms/step - loss: 0.0548 - accuracy: 0.9853\n",
      "Epoch 164/200\n",
      "1563/1563 [==============================] - 10s 6ms/step - loss: 0.0440 - accuracy: 0.9875\n",
      "Epoch 165/200\n",
      "1563/1563 [==============================] - 10s 6ms/step - loss: 0.0582 - accuracy: 0.9846\n",
      "Epoch 166/200\n",
      "1563/1563 [==============================] - 10s 6ms/step - loss: 0.0564 - accuracy: 0.9852\n",
      "Epoch 167/200\n",
      "1563/1563 [==============================] - 10s 6ms/step - loss: 0.0460 - accuracy: 0.9866\n",
      "Epoch 168/200\n",
      "1563/1563 [==============================] - 9s 6ms/step - loss: 0.0557 - accuracy: 0.9849\n",
      "Epoch 169/200\n",
      "1563/1563 [==============================] - 10s 6ms/step - loss: 0.0501 - accuracy: 0.9864\n",
      "Epoch 170/200\n",
      "1563/1563 [==============================] - 10s 6ms/step - loss: 0.0530 - accuracy: 0.9853\n",
      "Epoch 171/200\n",
      "1563/1563 [==============================] - 10s 6ms/step - loss: 0.0585 - accuracy: 0.9856\n",
      "Epoch 172/200\n",
      "1563/1563 [==============================] - 10s 6ms/step - loss: 0.0525 - accuracy: 0.9860\n",
      "Epoch 173/200\n",
      "1563/1563 [==============================] - 10s 6ms/step - loss: 0.0486 - accuracy: 0.9865\n",
      "Epoch 174/200\n",
      "1563/1563 [==============================] - 10s 6ms/step - loss: 0.0538 - accuracy: 0.9856\n",
      "Epoch 175/200\n",
      "1563/1563 [==============================] - 10s 6ms/step - loss: 0.0538 - accuracy: 0.9856\n",
      "Epoch 176/200\n",
      "1563/1563 [==============================] - 10s 6ms/step - loss: 0.0523 - accuracy: 0.9866\n",
      "Epoch 177/200\n",
      "1563/1563 [==============================] - 9s 6ms/step - loss: 0.0505 - accuracy: 0.9862\n",
      "Epoch 178/200\n",
      "1563/1563 [==============================] - 9s 6ms/step - loss: 0.0513 - accuracy: 0.9864\n",
      "Epoch 179/200\n",
      "1563/1563 [==============================] - 9s 6ms/step - loss: 0.0461 - accuracy: 0.9867\n",
      "Epoch 180/200\n",
      "1563/1563 [==============================] - 10s 6ms/step - loss: 0.0530 - accuracy: 0.9870\n",
      "Epoch 181/200\n",
      "1563/1563 [==============================] - 10s 6ms/step - loss: 0.0529 - accuracy: 0.9854\n",
      "Epoch 182/200\n",
      "1563/1563 [==============================] - 10s 6ms/step - loss: 0.0550 - accuracy: 0.9859\n",
      "Epoch 183/200\n",
      "1563/1563 [==============================] - 10s 6ms/step - loss: 0.0556 - accuracy: 0.9855\n",
      "Epoch 184/200\n",
      "1563/1563 [==============================] - 9s 6ms/step - loss: 0.0408 - accuracy: 0.9880\n",
      "Epoch 185/200\n",
      "1563/1563 [==============================] - 10s 6ms/step - loss: 0.0507 - accuracy: 0.9862\n",
      "Epoch 186/200\n",
      "1563/1563 [==============================] - 10s 6ms/step - loss: 0.0482 - accuracy: 0.9875\n",
      "Epoch 187/200\n",
      "1563/1563 [==============================] - 10s 6ms/step - loss: 0.0586 - accuracy: 0.9850\n",
      "Epoch 188/200\n",
      "1563/1563 [==============================] - 10s 6ms/step - loss: 0.0437 - accuracy: 0.9877\n",
      "Epoch 189/200\n",
      "1563/1563 [==============================] - 10s 6ms/step - loss: 0.0535 - accuracy: 0.9861\n",
      "Epoch 190/200\n",
      "1563/1563 [==============================] - 10s 6ms/step - loss: 0.0498 - accuracy: 0.9871\n",
      "Epoch 191/200\n",
      "1563/1563 [==============================] - 10s 6ms/step - loss: 0.0476 - accuracy: 0.9876\n",
      "Epoch 192/200\n",
      "1563/1563 [==============================] - 9s 6ms/step - loss: 0.0550 - accuracy: 0.9861\n",
      "Epoch 193/200\n",
      "1563/1563 [==============================] - 10s 6ms/step - loss: 0.0407 - accuracy: 0.9891\n",
      "Epoch 194/200\n",
      "1563/1563 [==============================] - 9s 6ms/step - loss: 0.0560 - accuracy: 0.9855\n",
      "Epoch 195/200\n",
      "1563/1563 [==============================] - 10s 6ms/step - loss: 0.0492 - accuracy: 0.9874\n",
      "Epoch 196/200\n",
      "1563/1563 [==============================] - 10s 6ms/step - loss: 0.0495 - accuracy: 0.9877\n",
      "Epoch 197/200\n",
      "1563/1563 [==============================] - 10s 6ms/step - loss: 0.0505 - accuracy: 0.9871\n",
      "Epoch 198/200\n",
      "1563/1563 [==============================] - 10s 6ms/step - loss: 0.0450 - accuracy: 0.9888\n",
      "Epoch 199/200\n",
      "1563/1563 [==============================] - 10s 6ms/step - loss: 0.0521 - accuracy: 0.9867\n",
      "Epoch 200/200\n",
      "1563/1563 [==============================] - 10s 6ms/step - loss: 0.0463 - accuracy: 0.9879\n"
     ]
    }
   ],
   "source": [
    "conv_model = keras.Sequential([\n",
    "                               keras.Input(shape=(32,32,3))\n",
    "                               ,keras.layers.Conv2D(32,2,activation='elu'),\n",
    "                               keras.layers.MaxPooling2D(pool_size=(2,2)),\n",
    "                               keras.layers.Conv2D(32,3,activation = 'elu'),\n",
    "                              # keras.layers.MaxPooling2D(),\n",
    "                              # keras.layers.Conv2D(32,3,activation = 'relu'),\n",
    "                               keras.layers.Flatten(),\n",
    "                               keras.layers.Dense(32,activation = 'elu'),\n",
    "                               keras.layers.Dense(10,activation='softmax')\n",
    "])\n",
    "\n",
    "conv_model.compile(\n",
    "    loss = keras.losses.SparseCategoricalCrossentropy(),\n",
    "    optimizer = keras.optimizers.Adam(),\n",
    "    metrics = ['accuracy']\n",
    ")\n",
    "\n",
    "history = conv_model.fit(xtrain,ytrain,epochs = 200)\n"
   ]
  },
  {
   "cell_type": "code",
   "execution_count": null,
   "metadata": {
    "colab": {
     "base_uri": "https://localhost:8080/"
    },
    "id": "lFegB6yqRdts",
    "outputId": "915b1356-759b-4cab-825f-5d60258ea377"
   },
   "outputs": [
    {
     "name": "stdout",
     "output_type": "stream",
     "text": [
      "313/313 [==============================] - 1s 4ms/step - loss: 10.5378 - accuracy: 0.5716\n"
     ]
    },
    {
     "data": {
      "text/plain": [
       "[10.537799835205078, 0.5716000199317932]"
      ]
     },
     "execution_count": 16,
     "metadata": {},
     "output_type": "execute_result"
    }
   ],
   "source": [
    "conv_model.evaluate(xtest,ytest)"
   ]
  },
  {
   "cell_type": "code",
   "execution_count": null,
   "metadata": {
    "colab": {
     "base_uri": "https://localhost:8080/",
     "height": 298
    },
    "id": "A20cCqO-I3Jl",
    "outputId": "4b29666f-8744-429f-83fb-5653022c25b6"
   },
   "outputs": [
    {
     "data": {
      "text/plain": [
       "<matplotlib.axes._subplots.AxesSubplot at 0x7f61dbf69110>"
      ]
     },
     "execution_count": 17,
     "metadata": {},
     "output_type": "execute_result"
    },
    {
     "data": {
      "image/png": "[encoded data removed]",
      "text/plain": [
       "<Figure size 432x288 with 1 Axes>"
      ]
     },
     "metadata": {
      "needs_background": "light"
     },
     "output_type": "display_data"
    }
   ],
   "source": [
    "pd.DataFrame(history.history).plot(title = 'graph')"
   ]
  }
 ],
 "metadata": {
  "accelerator": "GPU",
  "colab": {
   "collapsed_sections": [],
   "include_colab_link": true,
   "name": "CIFAR10_dataset_classification_with convolutional _neural_network.ipynb",
   "provenance": []
  },
  "kernelspec": {
   "display_name": "Python 3 (ipykernel)",
   "language": "python",
   "name": "python3"
  },
  "language_info": {
   "codemirror_mode": {
    "name": "ipython",
    "version": 3
   },
   "file_extension": ".py",
   "mimetype": "text/x-python",
   "name": "python",
   "nbconvert_exporter": "python",
   "pygments_lexer": "ipython3",
   "version": "3.10.4"
  }
 },
 "nbformat": 4,
 "nbformat_minor": 1
}
