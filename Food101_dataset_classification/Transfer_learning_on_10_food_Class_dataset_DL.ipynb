{
  "nbformat": 4,
  "nbformat_minor": 0,
  "metadata": {
    "colab": {
      "name": "Transfer_learning_on_10_food_Class_dataset_DL.ipynb",
      "provenance": [],
      "collapsed_sections": []
    },
    "kernelspec": {
      "name": "python3",
      "display_name": "Python 3"
    },
    "language_info": {
      "name": "python"
    },
    "accelerator": "GPU",
    "gpuClass": "standard"
  },
  "cells": [
    {
      "cell_type": "markdown",
      "source": [
        "#What is Transfer Learning?\n",
        "Transfer learning is a machine learning technique where a model trained on one task is re-purposed on a second related task.\n",
        "\n",
        "\n",
        "\n"
      ],
      "metadata": {
        "id": "jeOL-N3Kmnep"
      }
    },
    {
      "cell_type": "markdown",
      "source": [
        "### Here we will use 10% of the food101 dataset to classify the data and campare the Performance between ResNet and EfficientNet model Using TENSORFLOW"
      ],
      "metadata": {
        "id": "GasCdAiopgIv"
      }
    },
    {
      "cell_type": "markdown",
      "source": [
        "#1:  10% DATA"
      ],
      "metadata": {
        "id": "jmHaBfMtp7yH"
      }
    },
    {
      "cell_type": "code",
      "source": [
        "import tensorflow as tf\n",
        "import tensorflow.keras as keras\n",
        "import tensorflow_hub as hub"
      ],
      "metadata": {
        "id": "irvMvoRSntwV"
      },
      "execution_count": 1,
      "outputs": []
    },
    {
      "cell_type": "markdown",
      "source": [
        "## Get the data"
      ],
      "metadata": {
        "id": "NkiUPmdA0eyr"
      }
    },
    {
      "cell_type": "code",
      "source": [
        "# Get data (10% of labels)\n",
        "import zipfile\n",
        "\n",
        "# Download data\n",
        "!wget https://storage.googleapis.com/ztm_tf_course/food_vision/10_food_classes_10_percent.zip\n",
        "\n",
        "# Unzip the downloaded file\n",
        "zip_ref = zipfile.ZipFile(\"10_food_classes_10_percent.zip\", \"r\")\n",
        "zip_ref.extractall()\n",
        "zip_ref.close()"
      ],
      "metadata": {
        "colab": {
          "base_uri": "https://localhost:8080/"
        },
        "id": "sPRY0FMo0iPN",
        "outputId": "15ada8ce-89c4-48b1-c441-5e9af7db750c"
      },
      "execution_count": 2,
      "outputs": [
        {
          "output_type": "stream",
          "name": "stdout",
          "text": [
            "--2022-07-15 16:19:27--  https://storage.googleapis.com/ztm_tf_course/food_vision/10_food_classes_10_percent.zip\n",
            "Resolving storage.googleapis.com (storage.googleapis.com)... 74.125.142.128, 74.125.195.128, 142.250.107.128, ...\n",
            "Connecting to storage.googleapis.com (storage.googleapis.com)|74.125.142.128|:443... connected.\n",
            "HTTP request sent, awaiting response... 200 OK\n",
            "Length: 168546183 (161M) [application/zip]\n",
            "Saving to: ‘10_food_classes_10_percent.zip’\n",
            "\n",
            "10_food_classes_10_ 100%[===================>] 160.74M   188MB/s    in 0.9s    \n",
            "\n",
            "2022-07-15 16:19:28 (188 MB/s) - ‘10_food_classes_10_percent.zip’ saved [168546183/168546183]\n",
            "\n"
          ]
        }
      ]
    },
    {
      "cell_type": "code",
      "source": [
        "# How many images in each folder?\n",
        "import os\n",
        "\n",
        "# Walk through 10 percent data directory and list number of files\n",
        "for dirpath, dirnames, filenames in os.walk(\"10_food_classes_10_percent\"):\n",
        "  print(f\"There are {len(dirnames)} directories and {len(filenames)} images in '{dirpath}'.\")"
      ],
      "metadata": {
        "colab": {
          "base_uri": "https://localhost:8080/"
        },
        "id": "j2ICU0qh0npO",
        "outputId": "05d6143d-fa6f-4747-8ecf-b89a7ffdaccd"
      },
      "execution_count": 3,
      "outputs": [
        {
          "output_type": "stream",
          "name": "stdout",
          "text": [
            "There are 2 directories and 0 images in '10_food_classes_10_percent'.\n",
            "There are 10 directories and 0 images in '10_food_classes_10_percent/train'.\n",
            "There are 0 directories and 75 images in '10_food_classes_10_percent/train/ramen'.\n",
            "There are 0 directories and 75 images in '10_food_classes_10_percent/train/grilled_salmon'.\n",
            "There are 0 directories and 75 images in '10_food_classes_10_percent/train/fried_rice'.\n",
            "There are 0 directories and 75 images in '10_food_classes_10_percent/train/steak'.\n",
            "There are 0 directories and 75 images in '10_food_classes_10_percent/train/chicken_curry'.\n",
            "There are 0 directories and 75 images in '10_food_classes_10_percent/train/hamburger'.\n",
            "There are 0 directories and 75 images in '10_food_classes_10_percent/train/sushi'.\n",
            "There are 0 directories and 75 images in '10_food_classes_10_percent/train/chicken_wings'.\n",
            "There are 0 directories and 75 images in '10_food_classes_10_percent/train/ice_cream'.\n",
            "There are 0 directories and 75 images in '10_food_classes_10_percent/train/pizza'.\n",
            "There are 10 directories and 0 images in '10_food_classes_10_percent/test'.\n",
            "There are 0 directories and 250 images in '10_food_classes_10_percent/test/ramen'.\n",
            "There are 0 directories and 250 images in '10_food_classes_10_percent/test/grilled_salmon'.\n",
            "There are 0 directories and 250 images in '10_food_classes_10_percent/test/fried_rice'.\n",
            "There are 0 directories and 250 images in '10_food_classes_10_percent/test/steak'.\n",
            "There are 0 directories and 250 images in '10_food_classes_10_percent/test/chicken_curry'.\n",
            "There are 0 directories and 250 images in '10_food_classes_10_percent/test/hamburger'.\n",
            "There are 0 directories and 250 images in '10_food_classes_10_percent/test/sushi'.\n",
            "There are 0 directories and 250 images in '10_food_classes_10_percent/test/chicken_wings'.\n",
            "There are 0 directories and 250 images in '10_food_classes_10_percent/test/ice_cream'.\n",
            "There are 0 directories and 250 images in '10_food_classes_10_percent/test/pizza'.\n"
          ]
        }
      ]
    },
    {
      "cell_type": "code",
      "source": [
        "# Setup data inputs\n",
        "from tensorflow.keras.preprocessing.image import ImageDataGenerator\n",
        "\n",
        "IMAGE_SHAPE = (256,256)\n",
        "BATCH_SIZE = 64\n",
        "\n",
        "train_dir = \"10_food_classes_10_percent/train/\"\n",
        "test_dir = \"10_food_classes_10_percent/test/\"\n",
        "\n",
        "train_datagen = ImageDataGenerator(rescale=1/255.)\n",
        "test_datagen = ImageDataGenerator(rescale=1/255.)\n",
        "\n",
        "print(\"Training images:\")\n",
        "train_data_10_percent = train_datagen.flow_from_directory(train_dir,\n",
        "                                               target_size=IMAGE_SHAPE,\n",
        "                                               batch_size=BATCH_SIZE,\n",
        "                                               class_mode=\"categorical\")\n",
        "\n",
        "print(\"Testing images:\")\n",
        "test_data = train_datagen.flow_from_directory(test_dir,\n",
        "                                              target_size=IMAGE_SHAPE,\n",
        "                                              batch_size=BATCH_SIZE,\n",
        "                                              class_mode=\"categorical\")"
      ],
      "metadata": {
        "colab": {
          "base_uri": "https://localhost:8080/"
        },
        "id": "t2fLrfCR0nmp",
        "outputId": "d0de11b9-9ee6-43d9-cc6f-f5ee875a748d"
      },
      "execution_count": 4,
      "outputs": [
        {
          "output_type": "stream",
          "name": "stdout",
          "text": [
            "Training images:\n",
            "Found 750 images belonging to 10 classes.\n",
            "Testing images:\n",
            "Found 2500 images belonging to 10 classes.\n"
          ]
        }
      ]
    },
    {
      "cell_type": "code",
      "source": [
        "# Create tensorboard callback (functionized because need to create a new one for each model)\n",
        "import datetime\n",
        "def create_tensorboard_callback(dir_name, experiment_name):\n",
        "  log_dir = dir_name + \"/\" + experiment_name + \"/\" + datetime.datetime.now().strftime(\"%Y%m%d-%H%M%S\")\n",
        "  tensorboard_callback = tf.keras.callbacks.TensorBoard(\n",
        "      log_dir=log_dir\n",
        "  )\n",
        "  print(f\"Saving TensorBoard log files to: {log_dir}\")\n",
        "  return tensorboard_callback"
      ],
      "metadata": {
        "id": "75fR-NvF0njn"
      },
      "execution_count": 5,
      "outputs": []
    },
    {
      "cell_type": "code",
      "source": [
        "# Resnet 50 V2 feature vector\n",
        "resnet_url = \"https://tfhub.dev/google/imagenet/resnet_v2_50/feature_vector/4\"\n",
        "\n",
        "# Original: EfficientNetB0 feature vector (version 1)\n",
        "efficientnet_url = \"https://tfhub.dev/tensorflow/efficientnet/b0/feature-vector/1\"\n",
        "\n",
        "# # New: EfficientNetB0 feature vector (version 2)\n",
        "# efficientnet_url = \"https://tfhub.dev/google/imagenet/efficientnet_v2_imagenet1k_b0/feature_vector/2\""
      ],
      "metadata": {
        "id": "FFpDAjDM0ngt"
      },
      "execution_count": 6,
      "outputs": []
    },
    {
      "cell_type": "code",
      "source": [
        "def create_model( model_url, class_number):\n",
        "    '''\n",
        "    Take a Model url and Class number and return a Model\n",
        "\n",
        "    Args:\n",
        "        Model_url = a tensorflow hub model url\n",
        "        class_number : number of the output class\n",
        "    \n",
        "    Returns:\n",
        "        An uncompiled model from url\n",
        "\n",
        "    '''\n",
        "    feature_extraction_layer = hub.KerasLayer( model_url ,\n",
        "                                              trainable = False,\n",
        "                                              name = 'feature_extraction_layer',\n",
        "                                              input_shape = IMAGE_SHAPE +(3,))\n",
        "    \n",
        "    model = keras.Sequential([\n",
        "                              feature_extraction_layer,\n",
        "                              keras.layers.Dense( class_number, activation= 'softmax', name = 'output_layer')\n",
        "    ])\n",
        "    return model"
      ],
      "metadata": {
        "id": "ddhJHTxhn9oq"
      },
      "execution_count": 7,
      "outputs": []
    },
    {
      "cell_type": "code",
      "source": [
        "\n",
        "resnet_model = create_model(resnet_url, class_number = 10)\n"
      ],
      "metadata": {
        "id": "5uhrMfKkq69x"
      },
      "execution_count": 8,
      "outputs": []
    },
    {
      "cell_type": "code",
      "source": [
        "# Create model\n",
        "resnet_model = create_model(resnet_url, class_number=train_data_10_percent.num_classes)\n",
        "\n",
        "# Compile\n",
        "resnet_model.compile(loss='categorical_crossentropy',\n",
        "                     optimizer=tf.keras.optimizers.Adam(),\n",
        "                     metrics=['accuracy'])"
      ],
      "metadata": {
        "id": "A000757prSxB"
      },
      "execution_count": 9,
      "outputs": []
    },
    {
      "cell_type": "code",
      "source": [
        "# Fit the model\n",
        "resnet_history = resnet_model.fit(train_data_10_percent,\n",
        "                                  epochs=5,\n",
        "                                  steps_per_epoch=len(train_data_10_percent),\n",
        "                                  validation_data=test_data,\n",
        "                                  validation_steps=len(test_data),\n",
        "                                  # Add TensorBoard callback to model (callbacks parameter takes a list)\n",
        "                                  callbacks=[create_tensorboard_callback(dir_name=\"tensorflow_hub\", # save experiment logs here\n",
        "                                                                         experiment_name=\"resnet50V2\")]) # name of log files"
      ],
      "metadata": {
        "colab": {
          "base_uri": "https://localhost:8080/"
        },
        "id": "sGV6X68u1bol",
        "outputId": "b1fef448-928f-4530-8ae0-8f19d3014a89"
      },
      "execution_count": 10,
      "outputs": [
        {
          "output_type": "stream",
          "name": "stdout",
          "text": [
            "Saving TensorBoard log files to: tensorflow_hub/resnet50V2/20220715-161940\n",
            "Epoch 1/5\n",
            "12/12 [==============================] - 35s 2s/step - loss: 2.3473 - accuracy: 0.1933 - val_loss: 1.6425 - val_accuracy: 0.4584\n",
            "Epoch 2/5\n",
            "12/12 [==============================] - 21s 2s/step - loss: 1.3482 - accuracy: 0.5840 - val_loss: 1.0894 - val_accuracy: 0.6888\n",
            "Epoch 3/5\n",
            "12/12 [==============================] - 18s 2s/step - loss: 0.8843 - accuracy: 0.7573 - val_loss: 0.8483 - val_accuracy: 0.7544\n",
            "Epoch 4/5\n",
            "12/12 [==============================] - 17s 2s/step - loss: 0.6669 - accuracy: 0.8173 - val_loss: 0.7388 - val_accuracy: 0.7808\n",
            "Epoch 5/5\n",
            "12/12 [==============================] - 17s 2s/step - loss: 0.5462 - accuracy: 0.8507 - val_loss: 0.6872 - val_accuracy: 0.7920\n"
          ]
        }
      ]
    },
    {
      "cell_type": "code",
      "source": [
        "import matplotlib.pyplot as plt\n",
        "\n",
        "# Plot the validation and training data separately\n",
        "def plot_loss_curves(history):\n",
        "  \"\"\"\n",
        "  Returns separate loss curves for training and validation metrics.\n",
        "  \"\"\" \n",
        "  loss = history.history['loss']\n",
        "  val_loss = history.history['val_loss']\n",
        "\n",
        "  accuracy = history.history['accuracy']\n",
        "  val_accuracy = history.history['val_accuracy']\n",
        "\n",
        "  epochs = range(len(history.history['loss']))\n",
        "\n",
        "  # Plot loss\n",
        "  plt.plot(epochs, loss, label='training_loss')\n",
        "  plt.plot(epochs, val_loss, label='val_loss')\n",
        "  plt.title('Loss')\n",
        "  plt.xlabel('Epochs')\n",
        "  plt.legend()\n",
        "\n",
        "  # Plot accuracy\n",
        "  plt.figure()\n",
        "  plt.plot(epochs, accuracy, label='training_accuracy')\n",
        "  plt.plot(epochs, val_accuracy, label='val_accuracy')\n",
        "  plt.title('Accuracy')\n",
        "  plt.xlabel('Epochs')\n",
        "  plt.legend();"
      ],
      "metadata": {
        "id": "gZc2gfsK1rDZ"
      },
      "execution_count": 11,
      "outputs": []
    },
    {
      "cell_type": "code",
      "source": [
        "plot_loss_curves(resnet_history)"
      ],
      "metadata": {
        "colab": {
          "base_uri": "https://localhost:8080/",
          "height": 573
        },
        "id": "8gWiXyw62adl",
        "outputId": "508fd2f1-5edb-4aa1-9ea2-7facf9709975"
      },
      "execution_count": 12,
      "outputs": [
        {
          "output_type": "display_data",
          "data": {
            "text/plain": [
              "<Figure size 432x288 with 1 Axes>"
            ],
            "image/png": "[encoded data removed]"
          },
          "metadata": {
            "needs_background": "light"
          }
        },
        {
          "output_type": "display_data",
          "data": {
            "text/plain": [
              "<Figure size 432x288 with 1 Axes>"
            ],
            "image/png": "[encoded data removed]"
          },
          "metadata": {
            "needs_background": "light"
          }
        }
      ]
    },
    {
      "cell_type": "code",
      "source": [
        "# Resnet summary \n",
        "resnet_model.summary()"
      ],
      "metadata": {
        "colab": {
          "base_uri": "https://localhost:8080/"
        },
        "id": "gg7p3JZS2ffH",
        "outputId": "f5f23a38-6340-45d5-9293-1f96f88becf4"
      },
      "execution_count": 13,
      "outputs": [
        {
          "output_type": "stream",
          "name": "stdout",
          "text": [
            "Model: \"sequential_1\"\n",
            "_________________________________________________________________\n",
            " Layer (type)                Output Shape              Param #   \n",
            "=================================================================\n",
            " feature_extraction_layer (K  (None, 2048)             23564800  \n",
            " erasLayer)                                                      \n",
            "                                                                 \n",
            " output_layer (Dense)        (None, 10)                20490     \n",
            "                                                                 \n",
            "=================================================================\n",
            "Total params: 23,585,290\n",
            "Trainable params: 20,490\n",
            "Non-trainable params: 23,564,800\n",
            "_________________________________________________________________\n"
          ]
        }
      ]
    },
    {
      "cell_type": "markdown",
      "source": [
        "## Effiecientnet model"
      ],
      "metadata": {
        "id": "NwagoH5c2n4h"
      }
    },
    {
      "cell_type": "code",
      "source": [
        "# Create model\n",
        "efficientnet_model = create_model(model_url=efficientnet_url, # use EfficientNetB0 TensorFlow Hub URL\n",
        "                                  class_number=train_data_10_percent.num_classes)\n",
        "\n",
        "# Compile EfficientNet model\n",
        "efficientnet_model.compile(loss='categorical_crossentropy',\n",
        "                           optimizer=tf.keras.optimizers.Adam(),\n",
        "                           metrics=['accuracy'])\n",
        "\n",
        "# Fit EfficientNet model \n",
        "efficientnet_history = efficientnet_model.fit(train_data_10_percent, # only use 10% of training data\n",
        "                                              epochs=5, # train for 5 epochs\n",
        "                                              steps_per_epoch=len(train_data_10_percent),\n",
        "                                              validation_data=test_data,\n",
        "                                              validation_steps=len(test_data),\n",
        "                                              callbacks=[create_tensorboard_callback(dir_name=\"tensorflow_hub\", \n",
        "                                                                                     # Track logs under different experiment name\n",
        "                                                                                     experiment_name=\"efficientnetB0\")])"
      ],
      "metadata": {
        "colab": {
          "base_uri": "https://localhost:8080/"
        },
        "id": "BG9I8Koi2zf4",
        "outputId": "cd158ba0-c1dd-4470-8c75-0e95d13da4d5"
      },
      "execution_count": 14,
      "outputs": [
        {
          "output_type": "stream",
          "name": "stdout",
          "text": [
            "Saving TensorBoard log files to: tensorflow_hub/efficientnetB0/20220715-162144\n",
            "Epoch 1/5\n",
            "12/12 [==============================] - 29s 2s/step - loss: 2.0488 - accuracy: 0.2853 - val_loss: 1.6219 - val_accuracy: 0.6364\n",
            "Epoch 2/5\n",
            "12/12 [==============================] - 16s 1s/step - loss: 1.4022 - accuracy: 0.7027 - val_loss: 1.1651 - val_accuracy: 0.7752\n",
            "Epoch 3/5\n",
            "12/12 [==============================] - 17s 1s/step - loss: 1.0346 - accuracy: 0.7987 - val_loss: 0.9086 - val_accuracy: 0.8180\n",
            "Epoch 4/5\n",
            "12/12 [==============================] - 19s 2s/step - loss: 0.8212 - accuracy: 0.8373 - val_loss: 0.7632 - val_accuracy: 0.8408\n",
            "Epoch 5/5\n",
            "12/12 [==============================] - 24s 2s/step - loss: 0.6909 - accuracy: 0.8560 - val_loss: 0.6776 - val_accuracy: 0.8548\n"
          ]
        }
      ]
    },
    {
      "cell_type": "code",
      "source": [
        "plot_loss_curves(efficientnet_history)"
      ],
      "metadata": {
        "colab": {
          "base_uri": "https://localhost:8080/",
          "height": 573
        },
        "id": "7SUXoMec20O-",
        "outputId": "4ca03979-61a4-4234-a40f-833b02d402a2"
      },
      "execution_count": 15,
      "outputs": [
        {
          "output_type": "display_data",
          "data": {
            "text/plain": [
              "<Figure size 432x288 with 1 Axes>"
            ],
            "image/png": "[encoded data removed]"
          },
          "metadata": {
            "needs_background": "light"
          }
        },
        {
          "output_type": "display_data",
          "data": {
            "text/plain": [
              "<Figure size 432x288 with 1 Axes>"
            ],
            "image/png": "[encoded data removed]"
          },
          "metadata": {
            "needs_background": "light"
          }
        }
      ]
    },
    {
      "cell_type": "code",
      "source": [
        "efficientnet_model.summary()"
      ],
      "metadata": {
        "colab": {
          "base_uri": "https://localhost:8080/"
        },
        "id": "iwIHpUgn3CNf",
        "outputId": "1402e001-5e50-45db-af11-8840ecf4a042"
      },
      "execution_count": 16,
      "outputs": [
        {
          "output_type": "stream",
          "name": "stdout",
          "text": [
            "Model: \"sequential_2\"\n",
            "_________________________________________________________________\n",
            " Layer (type)                Output Shape              Param #   \n",
            "=================================================================\n",
            " feature_extraction_layer (K  (None, 1280)             4049564   \n",
            " erasLayer)                                                      \n",
            "                                                                 \n",
            " output_layer (Dense)        (None, 10)                12810     \n",
            "                                                                 \n",
            "=================================================================\n",
            "Total params: 4,062,374\n",
            "Trainable params: 12,810\n",
            "Non-trainable params: 4,049,564\n",
            "_________________________________________________________________\n"
          ]
        }
      ]
    },
    {
      "cell_type": "code",
      "source": [
        "# Upload TensorBoard dev records\n",
        "!tensorboard dev upload --logdir ./tensorflow_hub/ \\\n",
        "  --name \"EfficientNetB0 vs. ResNet50V2\" \\\n",
        "  --description \"Comparing two different TF Hub feature extraction models architectures using 10% of training images\" \\\n",
        "  --one_shot"
      ],
      "metadata": {
        "colab": {
          "base_uri": "https://localhost:8080/"
        },
        "id": "ABYUlugk3MMD",
        "outputId": "a918c737-0d05-416e-c1f1-4eb5975bbf7d"
      },
      "execution_count": 17,
      "outputs": [
        {
          "output_type": "stream",
          "name": "stdout",
          "text": [
            "\n",
            "***** TensorBoard Uploader *****\n",
            "\n",
            "This will upload your TensorBoard logs to https://tensorboard.dev/ from\n",
            "the following directory:\n",
            "\n",
            "./tensorflow_hub/\n",
            "\n",
            "This TensorBoard will be visible to everyone. Do not upload sensitive\n",
            "data.\n",
            "\n",
            "Your use of this service is subject to Google's Terms of Service\n",
            "<https://policies.google.com/terms> and Privacy Policy\n",
            "<https://policies.google.com/privacy>, and TensorBoard.dev's Terms of Service\n",
            "<https://tensorboard.dev/policy/terms/>.\n",
            "\n",
            "This notice will not be shown again while you are logged into the uploader.\n",
            "To log out, run `tensorboard dev auth revoke`.\n",
            "\n",
            "Continue? (yes/NO) yes\n",
            "\n",
            "Please visit this URL to authorize this application: https://accounts.google.com/o/oauth2/auth?response_type=code&client_id=373649185512-8v619h5kft38l4456nm2dj4ubeqsrvh6.apps.googleusercontent.com&redirect_uri=urn%3Aietf%3Awg%3Aoauth%3A2.0%3Aoob&scope=openid+https%3A%2F%2Fwww.googleapis.com%2Fauth%2Fuserinfo.email&state=3LvNO3duomM8akBDRJac985VpjEHko&prompt=consent&access_type=offline\n",
            "Enter the authorization code: 4/1AdQt8qhVaVNQHvO__tceYTnKk8LwEy5flgJSw39LOWL9ZbY5slEX9irXPFY\n",
            "\n",
            "\n",
            "New experiment created. View your TensorBoard at: https://tensorboard.dev/experiment/rQBeQzcEQY2sQwDMq1ujiw/\n",
            "\n",
            "\u001b[1m[2022-07-15T16:30:14]\u001b[0m Started scanning logdir.\n",
            "\u001b[1m[2022-07-15T16:30:16]\u001b[0m Total uploaded: 60 scalars, 0 tensors, 2 binary objects (5.6 MB)\n",
            "\u001b[1m[2022-07-15T16:30:16]\u001b[0m Done scanning logdir.\n",
            "\n",
            "\n",
            "Done. View your TensorBoard at https://tensorboard.dev/experiment/rQBeQzcEQY2sQwDMq1ujiw/\n"
          ]
        }
      ]
    },
    {
      "cell_type": "code",
      "source": [
        "# Check out experiments\n",
        "!tensorboard dev list"
      ],
      "metadata": {
        "colab": {
          "base_uri": "https://localhost:8080/"
        },
        "id": "V-cIgyfw3SQX",
        "outputId": "75d6d91f-7a1c-41ad-86fc-8504fb34dd5a"
      },
      "execution_count": 18,
      "outputs": [
        {
          "output_type": "stream",
          "name": "stdout",
          "text": [
            "https://tensorboard.dev/experiment/rQBeQzcEQY2sQwDMq1ujiw/\n",
            "\tName                 EfficientNetB0 vs. ResNet50V2\n",
            "\tDescription          Comparing two different TF Hub feature extraction models architectures using 10% of training images\n",
            "\tId                   rQBeQzcEQY2sQwDMq1ujiw\n",
            "\tCreated              2022-07-15 16:30:14 (18 seconds ago)\n",
            "\tUpdated              2022-07-15 16:30:16 (16 seconds ago)\n",
            "\tRuns                 4\n",
            "\tTags                 5\n",
            "\tScalars              60\n",
            "\tTensor bytes         0\n",
            "\tBinary object bytes  5921132\n",
            "Total: 1 experiment(s)\n"
          ]
        }
      ]
    },
    {
      "cell_type": "code",
      "source": [
        "# Delete an experiment\n",
        "# !tensorboard dev delete --experiment_id 7PpfPkyURrqzXwmye5PG7g"
      ],
      "metadata": {
        "id": "hNi8TBKU5TU2"
      },
      "execution_count": 19,
      "outputs": []
    },
    {
      "cell_type": "code",
      "source": [
        ""
      ],
      "metadata": {
        "id": "KNlZzwbX5oDI"
      },
      "execution_count": 19,
      "outputs": []
    },
    {
      "cell_type": "markdown",
      "source": [
        "# 2: 100% DATA"
      ],
      "metadata": {
        "id": "C2XmxuW7qOcc"
      }
    },
    {
      "cell_type": "code",
      "source": [
        "# Getting the Data\n",
        "! wget https://storage.googleapis.com/ztm_tf_course/food_vision/10_food_classes_all_data.zip\n",
        "\n",
        "import zipfile\n",
        "\n",
        "# Unzip the downloaded file\n",
        "zip_ref2 = zipfile.ZipFile(\"10_food_classes_all_data.zip\", \"r\")\n",
        "zip_ref2.extractall()\n",
        "zip_ref2.close()"
      ],
      "metadata": {
        "colab": {
          "base_uri": "https://localhost:8080/"
        },
        "id": "3ecEqWo1qReN",
        "outputId": "0c57de85-5970-4487-9e1c-517f3f785800"
      },
      "execution_count": 20,
      "outputs": [
        {
          "output_type": "stream",
          "name": "stdout",
          "text": [
            "--2022-07-15 16:30:35--  https://storage.googleapis.com/ztm_tf_course/food_vision/10_food_classes_all_data.zip\n",
            "Resolving storage.googleapis.com (storage.googleapis.com)... 108.177.98.128, 74.125.197.128, 74.125.135.128, ...\n",
            "Connecting to storage.googleapis.com (storage.googleapis.com)|108.177.98.128|:443... connected.\n",
            "HTTP request sent, awaiting response... 200 OK\n",
            "Length: 519183241 (495M) [application/zip]\n",
            "Saving to: ‘10_food_classes_all_data.zip’\n",
            "\n",
            "10_food_classes_all 100%[===================>] 495.13M   141MB/s    in 3.5s    \n",
            "\n",
            "2022-07-15 16:30:39 (141 MB/s) - ‘10_food_classes_all_data.zip’ saved [519183241/519183241]\n",
            "\n"
          ]
        }
      ]
    },
    {
      "cell_type": "code",
      "source": [
        "from numpy.core.fromnumeric import reshape\n",
        "from tensorflow.keras.preprocessing.image import ImageDataGenerator\n",
        "\n",
        "# setting train and test path\n",
        "train_path_full = '10_food_classes_all_data/train/'\n",
        "valid_path_full = '10_food_classes_all_data/test/'\n",
        "\n",
        "# instanciate the ImageDataGenerator\n",
        "\n",
        "\n",
        "train_datagen_full = ImageDataGenerator(rescale=1/255.) \n",
        "\n",
        "\n",
        "valid_datagen_full = ImageDataGenerator( rescale = 1./255)\n",
        "\n",
        "\n",
        "# Create the Dataset\n",
        "\n",
        "shuffle_nob = True\n",
        "\n",
        "\n",
        "train_data_full = train_datagen_full.flow_from_directory(train_path_full,\n",
        "                                               target_size = (512,512),\n",
        "                                               shuffle = shuffle_nob,\n",
        "                                               class_mode = 'categorical', \n",
        "                                               batch_size = 64\n",
        "                                               )\n",
        "\n",
        "valid_data_full = valid_datagen_full.flow_from_directory(valid_path_full,\n",
        "                                               target_size = (512,512),\n",
        "                                               class_mode = 'categorical', \n",
        "                                               batch_size = 64\n",
        "                                               )\n"
      ],
      "metadata": {
        "colab": {
          "base_uri": "https://localhost:8080/"
        },
        "id": "i5DyAAZtqVnh",
        "outputId": "5fa1f4ee-0864-4540-f714-93d7dbffd469"
      },
      "execution_count": 23,
      "outputs": [
        {
          "output_type": "stream",
          "name": "stdout",
          "text": [
            "Found 7500 images belonging to 10 classes.\n",
            "Found 2500 images belonging to 10 classes.\n"
          ]
        }
      ]
    },
    {
      "cell_type": "markdown",
      "source": [
        "### ResNet"
      ],
      "metadata": {
        "id": "-0UGJ5p2quNi"
      }
    },
    {
      "cell_type": "code",
      "source": [
        "# create resnet model\n",
        "resnet2_model = create_model(resnet_url, 10)\n",
        "\n",
        "# compile it\n",
        "resnet2_model.compile(loss = keras.losses.CategoricalCrossentropy(), \n",
        "                  optimizer= keras.optimizers.Adam(),\n",
        "                  metrics = ['accuracy'])\n",
        "\n",
        "# fit it\n",
        "\n",
        "resnet2_history = resnet2_model.fit(train_data_full, epochs = 5, steps_per_epoch  = len(train_data_full), validation_data = valid_data, \n",
        "                        validation_steps = len(valid_data_full),\n",
        "                        callbacks = [create_tensorboard_callback('tensorflow_hub','resnet2_full')])"
      ],
      "metadata": {
        "colab": {
          "base_uri": "https://localhost:8080/"
        },
        "id": "Or1fYr7hq3c-",
        "outputId": "93dcba09-4fd2-4c3c-aaac-7284c1b261e3"
      },
      "execution_count": 25,
      "outputs": [
        {
          "output_type": "stream",
          "name": "stdout",
          "text": [
            "Saving TensorBoard log files to: tensorflow_hub/resnet2_full/20220715-163137\n",
            "Epoch 1/5\n",
            "118/118 [==============================] - 134s 1s/step - loss: 1.0910 - accuracy: 0.6913 - val_loss: 0.5528 - val_accuracy: 0.8576\n",
            "Epoch 2/5\n",
            "118/118 [==============================] - 127s 1s/step - loss: 0.5608 - accuracy: 0.8405 - val_loss: 0.4314 - val_accuracy: 0.8764\n",
            "Epoch 3/5\n",
            "118/118 [==============================] - 128s 1s/step - loss: 0.4508 - accuracy: 0.8691 - val_loss: 0.3667 - val_accuracy: 0.8912\n",
            "Epoch 4/5\n",
            "118/118 [==============================] - 128s 1s/step - loss: 0.3922 - accuracy: 0.8839 - val_loss: 0.3293 - val_accuracy: 0.9024\n",
            "Epoch 5/5\n",
            "118/118 [==============================] - 128s 1s/step - loss: 0.3546 - accuracy: 0.8959 - val_loss: 0.3113 - val_accuracy: 0.9084\n"
          ]
        }
      ]
    },
    {
      "cell_type": "markdown",
      "source": [
        "### EfficientNet"
      ],
      "metadata": {
        "id": "MdsSgwF2swYI"
      }
    },
    {
      "cell_type": "code",
      "source": [
        "# create resnet model\n",
        "efficientnet2_model = create_model(efficientnet_url, 10)\n",
        "\n",
        "# compile it\n",
        "efficientnet2_model.compile(loss = keras.losses.CategoricalCrossentropy(), \n",
        "                  optimizer= keras.optimizers.Adam(),\n",
        "                  metrics = ['accuracy'])\n",
        "\n",
        "# fit it\n",
        "\n",
        "efficientnet2_history = efficientnet2_model.fit(train_data_full, epochs = 5, steps_per_epoch  = len(train_data_full), validation_data = valid_data, \n",
        "                        validation_steps = len(valid_data_full),\n",
        "                        callbacks = [create_tensorboard_callback('tensorflow_hub','efficientnet2_full')])"
      ],
      "metadata": {
        "colab": {
          "base_uri": "https://localhost:8080/"
        },
        "id": "iLo-rp9utDVl",
        "outputId": "a0f59431-9516-4c6f-af20-94e9efbe6b19"
      },
      "execution_count": 26,
      "outputs": [
        {
          "output_type": "stream",
          "name": "stdout",
          "text": [
            "Saving TensorBoard log files to: tensorflow_hub/efficientnet2_full/20220715-164237\n",
            "Epoch 1/5\n",
            "118/118 [==============================] - 104s 790ms/step - loss: 1.1125 - accuracy: 0.7137 - val_loss: 0.5825 - val_accuracy: 0.8772\n",
            "Epoch 2/5\n",
            "118/118 [==============================] - 91s 766ms/step - loss: 0.5809 - accuracy: 0.8479 - val_loss: 0.4261 - val_accuracy: 0.8988\n",
            "Epoch 3/5\n",
            "118/118 [==============================] - 91s 768ms/step - loss: 0.4735 - accuracy: 0.8691 - val_loss: 0.3630 - val_accuracy: 0.9068\n",
            "Epoch 4/5\n",
            "118/118 [==============================] - 91s 767ms/step - loss: 0.4168 - accuracy: 0.8847 - val_loss: 0.3275 - val_accuracy: 0.9116\n",
            "Epoch 5/5\n",
            "118/118 [==============================] - 91s 766ms/step - loss: 0.3788 - accuracy: 0.8961 - val_loss: 0.3038 - val_accuracy: 0.9196\n"
          ]
        }
      ]
    },
    {
      "cell_type": "code",
      "source": [
        "# Upload TensorBoard dev records\n",
        "!tensorboard dev upload --logdir ./tensorflow_hub/ \\\n",
        "  --name \"EfficientNetB0 vs. ResNet50V2\" \\\n",
        "  --description \"Comparing two different architecture using 10% and 100% of training images\" \\\n",
        "  --one_shot"
      ],
      "metadata": {
        "colab": {
          "base_uri": "https://localhost:8080/"
        },
        "id": "aRrefje9tgo6",
        "outputId": "c7347c97-fa19-42d1-dffb-32606f048807"
      },
      "execution_count": 27,
      "outputs": [
        {
          "output_type": "stream",
          "name": "stdout",
          "text": [
            "\n",
            "New experiment created. View your TensorBoard at: https://tensorboard.dev/experiment/lCvKlPLjRQSJtnHwAPCYnA/\n",
            "\n",
            "\u001b[1m[2022-07-15T16:51:20]\u001b[0m Started scanning logdir.\n",
            "\u001b[1m[2022-07-15T16:51:24]\u001b[0m Total uploaded: 120 scalars, 0 tensors, 4 binary objects (11.3 MB)\n",
            "\u001b[1m[2022-07-15T16:51:24]\u001b[0m Done scanning logdir.\n",
            "\n",
            "\n",
            "Done. View your TensorBoard at https://tensorboard.dev/experiment/lCvKlPLjRQSJtnHwAPCYnA/\n"
          ]
        }
      ]
    },
    {
      "cell_type": "code",
      "source": [
        ""
      ],
      "metadata": {
        "id": "M5C5_s6juxQv"
      },
      "execution_count": null,
      "outputs": []
    }
  ]
}