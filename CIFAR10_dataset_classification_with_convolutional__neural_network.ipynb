{
  "nbformat": 4,
  "nbformat_minor": 0,
  "metadata": {
    "colab": {
      "name": "CIFAR10_dataset_classification_with convolutional _neural_network.ipynb",
      "provenance": [],
      "collapsed_sections": [],
      "include_colab_link": true
    },
    "kernelspec": {
      "name": "python3",
      "display_name": "Python 3"
    },
    "language_info": {
      "name": "python"
    },
    "accelerator": "GPU"
  },
  "cells": [
    {
      "cell_type": "markdown",
      "metadata": {
        "id": "view-in-github",
        "colab_type": "text"
      },
      "source": [
        "<a href=\"https://colab.research.google.com/github/tikendraw/Deeplearning/blob/main/CIFAR10_dataset_classification_with_convolutional__neural_network.ipynb\" target=\"_parent\"><img src=\"https://colab.research.google.com/assets/colab-badge.svg\" alt=\"Open In Colab\"/></a>"
      ]
    },
    {
      "cell_type": "code",
      "metadata": {
        "id": "CSJyCB_H8OD4"
      },
      "source": [
        "import tensorflow as tf\n",
        "import tensorflow.keras as keras\n",
        "import numpy as np\n",
        "import pandas  as pd\n",
        "import os\n",
        "from tensorflow.keras.datasets import cifar10"
      ],
      "execution_count": 1,
      "outputs": []
    },
    {
      "cell_type": "markdown",
      "metadata": {
        "id": "T3P75LiZ9EO1"
      },
      "source": [
        "# Loading the data"
      ]
    },
    {
      "cell_type": "code",
      "metadata": {
        "id": "a5tOS5ec9Qy2",
        "colab": {
          "base_uri": "https://localhost:8080/"
        },
        "outputId": "b425f1e0-13ff-4f5c-b9f9-81c25d52a712"
      },
      "source": [
        "(xtrain,ytrain),(xtest,ytest) = cifar10.load_data()"
      ],
      "execution_count": 2,
      "outputs": [
        {
          "output_type": "stream",
          "name": "stdout",
          "text": [
            "Downloading data from https://www.cs.toronto.edu/~kriz/cifar-10-python.tar.gz\n",
            "170500096/170498071 [==============================] - 6s 0us/step\n",
            "170508288/170498071 [==============================] - 6s 0us/step\n"
          ]
        }
      ]
    },
    {
      "cell_type": "code",
      "metadata": {
        "colab": {
          "base_uri": "https://localhost:8080/"
        },
        "id": "zcO4V_0gqtEQ",
        "outputId": "94df8826-92f8-4c66-f6b1-0cc8179bbd4a"
      },
      "source": [
        "xtrain.shape, ytrain.shape, xtest.shape,ytest.shape"
      ],
      "execution_count": 3,
      "outputs": [
        {
          "output_type": "execute_result",
          "data": {
            "text/plain": [
              "((50000, 32, 32, 3), (50000, 1), (10000, 32, 32, 3), (10000, 1))"
            ]
          },
          "metadata": {},
          "execution_count": 3
        }
      ]
    },
    {
      "cell_type": "markdown",
      "metadata": {
        "id": "I28LnQmfq7HS"
      },
      "source": [
        "## normalize the data"
      ]
    },
    {
      "cell_type": "code",
      "metadata": {
        "id": "tPRPsXzIrA6X"
      },
      "source": [
        "xtrain = xtrain.astype('float32')/255\n",
        "xtest = xtest.astype('float32')/255\n",
        "ytrain = ytrain.astype('float32')\n",
        "ytest = ytest.astype('float32')"
      ],
      "execution_count": 4,
      "outputs": []
    },
    {
      "cell_type": "code",
      "metadata": {
        "colab": {
          "base_uri": "https://localhost:8080/"
        },
        "id": "bSIquIahrcux",
        "outputId": "941161d6-6c91-4f8d-fa59-d1519d9477b1"
      },
      "source": [
        "xtrain[1]"
      ],
      "execution_count": 5,
      "outputs": [
        {
          "output_type": "execute_result",
          "data": {
            "text/plain": [
              "array([[[0.6039216 , 0.69411767, 0.73333335],\n",
              "        [0.49411765, 0.5372549 , 0.53333336],\n",
              "        [0.4117647 , 0.40784314, 0.37254903],\n",
              "        ...,\n",
              "        [0.35686275, 0.37254903, 0.2784314 ],\n",
              "        [0.34117648, 0.3529412 , 0.2784314 ],\n",
              "        [0.30980393, 0.31764707, 0.27450982]],\n",
              "\n",
              "       [[0.54901963, 0.627451  , 0.6627451 ],\n",
              "        [0.5686275 , 0.6       , 0.6039216 ],\n",
              "        [0.49019608, 0.49019608, 0.4627451 ],\n",
              "        ...,\n",
              "        [0.3764706 , 0.3882353 , 0.30588236],\n",
              "        [0.3019608 , 0.3137255 , 0.24313726],\n",
              "        [0.2784314 , 0.28627452, 0.23921569]],\n",
              "\n",
              "       [[0.54901963, 0.60784316, 0.6431373 ],\n",
              "        [0.54509807, 0.57254905, 0.58431375],\n",
              "        [0.4509804 , 0.4509804 , 0.4392157 ],\n",
              "        ...,\n",
              "        [0.30980393, 0.32156864, 0.2509804 ],\n",
              "        [0.26666668, 0.27450982, 0.21568628],\n",
              "        [0.2627451 , 0.27058825, 0.21568628]],\n",
              "\n",
              "       ...,\n",
              "\n",
              "       [[0.6862745 , 0.654902  , 0.6509804 ],\n",
              "        [0.6117647 , 0.6039216 , 0.627451  ],\n",
              "        [0.6039216 , 0.627451  , 0.6666667 ],\n",
              "        ...,\n",
              "        [0.16470589, 0.13333334, 0.14117648],\n",
              "        [0.23921569, 0.20784314, 0.22352941],\n",
              "        [0.3647059 , 0.3254902 , 0.35686275]],\n",
              "\n",
              "       [[0.64705884, 0.6039216 , 0.5019608 ],\n",
              "        [0.6117647 , 0.59607846, 0.50980395],\n",
              "        [0.62352943, 0.6313726 , 0.5568628 ],\n",
              "        ...,\n",
              "        [0.40392157, 0.3647059 , 0.3764706 ],\n",
              "        [0.48235294, 0.44705883, 0.47058824],\n",
              "        [0.5137255 , 0.4745098 , 0.5137255 ]],\n",
              "\n",
              "       [[0.6392157 , 0.5803922 , 0.47058824],\n",
              "        [0.61960787, 0.5803922 , 0.47843137],\n",
              "        [0.6392157 , 0.6117647 , 0.52156866],\n",
              "        ...,\n",
              "        [0.56078434, 0.52156866, 0.54509807],\n",
              "        [0.56078434, 0.5254902 , 0.5568628 ],\n",
              "        [0.56078434, 0.52156866, 0.5647059 ]]], dtype=float32)"
            ]
          },
          "metadata": {},
          "execution_count": 5
        }
      ]
    },
    {
      "cell_type": "code",
      "metadata": {
        "colab": {
          "base_uri": "https://localhost:8080/"
        },
        "id": "oQ0MXwmAri62",
        "outputId": "9fcfe84b-12d0-44bc-b87e-cf200378f67b"
      },
      "source": [
        "ytrain[:]"
      ],
      "execution_count": 6,
      "outputs": [
        {
          "output_type": "execute_result",
          "data": {
            "text/plain": [
              "array([[6.],\n",
              "       [9.],\n",
              "       [9.],\n",
              "       ...,\n",
              "       [9.],\n",
              "       [1.],\n",
              "       [1.]], dtype=float32)"
            ]
          },
          "metadata": {},
          "execution_count": 6
        }
      ]
    },
    {
      "cell_type": "code",
      "metadata": {
        "id": "IXfhwPFZsGhV"
      },
      "source": [
        ""
      ],
      "execution_count": 6,
      "outputs": []
    },
    {
      "cell_type": "markdown",
      "metadata": {
        "id": "ea-YlC7_ro3d"
      },
      "source": [
        "# Build the model"
      ]
    },
    {
      "cell_type": "code",
      "metadata": {
        "colab": {
          "base_uri": "https://localhost:8080/"
        },
        "id": "mPiZG9EHryNE",
        "outputId": "2d047148-28e5-4c4d-c9e1-89b3f5febcd2"
      },
      "source": [
        "model = keras.Sequential()\n",
        "model.add(keras.layers.Flatten(input_shape = (32,32,3),name = 'flat'))\n",
        "model.add(keras.layers.Dense(32,activation='relu',name = 'first'))\n",
        "model.add(keras.layers.Dense(16,activation='relu',name = 'second'))\n",
        "model.add(keras.layers.Dense(10,activation='softmax',name = 'output'))\n",
        "\n",
        "model.compile(loss = keras.losses.SparseCategoricalCrossentropy(),\n",
        "              optimizer = keras.optimizers.Adagrad(),\n",
        "              metrics = ['accuracy'])\n",
        "\n",
        "history = model.fit(xtrain,ytrain,epochs = 100)"
      ],
      "execution_count": 7,
      "outputs": [
        {
          "output_type": "stream",
          "name": "stdout",
          "text": [
            "Epoch 1/100\n",
            "1563/1563 [==============================] - 7s 3ms/step - loss: 2.1586 - accuracy: 0.2077\n",
            "Epoch 2/100\n",
            "1563/1563 [==============================] - 5s 3ms/step - loss: 2.0232 - accuracy: 0.2785\n",
            "Epoch 3/100\n",
            "1563/1563 [==============================] - 5s 3ms/step - loss: 1.9579 - accuracy: 0.3075\n",
            "Epoch 4/100\n",
            "1563/1563 [==============================] - 5s 3ms/step - loss: 1.9220 - accuracy: 0.3219\n",
            "Epoch 5/100\n",
            "1563/1563 [==============================] - 5s 3ms/step - loss: 1.8983 - accuracy: 0.3309\n",
            "Epoch 6/100\n",
            "1563/1563 [==============================] - 5s 3ms/step - loss: 1.8812 - accuracy: 0.3359\n",
            "Epoch 7/100\n",
            "1563/1563 [==============================] - 5s 3ms/step - loss: 1.8677 - accuracy: 0.3399\n",
            "Epoch 8/100\n",
            "1563/1563 [==============================] - 5s 3ms/step - loss: 1.8566 - accuracy: 0.3446\n",
            "Epoch 9/100\n",
            "1563/1563 [==============================] - 5s 3ms/step - loss: 1.8468 - accuracy: 0.3485\n",
            "Epoch 10/100\n",
            "1563/1563 [==============================] - 5s 3ms/step - loss: 1.8377 - accuracy: 0.3519\n",
            "Epoch 11/100\n",
            "1563/1563 [==============================] - 5s 3ms/step - loss: 1.8301 - accuracy: 0.3558\n",
            "Epoch 12/100\n",
            "1563/1563 [==============================] - 5s 3ms/step - loss: 1.8234 - accuracy: 0.3576\n",
            "Epoch 13/100\n",
            "1563/1563 [==============================] - 5s 3ms/step - loss: 1.8174 - accuracy: 0.3595\n",
            "Epoch 14/100\n",
            "1563/1563 [==============================] - 5s 3ms/step - loss: 1.8110 - accuracy: 0.3638\n",
            "Epoch 15/100\n",
            "1563/1563 [==============================] - 5s 3ms/step - loss: 1.8049 - accuracy: 0.3660\n",
            "Epoch 16/100\n",
            "1563/1563 [==============================] - 5s 3ms/step - loss: 1.7983 - accuracy: 0.3678\n",
            "Epoch 17/100\n",
            "1563/1563 [==============================] - 5s 3ms/step - loss: 1.7921 - accuracy: 0.3681\n",
            "Epoch 18/100\n",
            "1563/1563 [==============================] - 5s 3ms/step - loss: 1.7864 - accuracy: 0.3707\n",
            "Epoch 19/100\n",
            "1563/1563 [==============================] - 5s 3ms/step - loss: 1.7813 - accuracy: 0.3724\n",
            "Epoch 20/100\n",
            "1563/1563 [==============================] - 5s 3ms/step - loss: 1.7759 - accuracy: 0.3736\n",
            "Epoch 21/100\n",
            "1563/1563 [==============================] - 5s 3ms/step - loss: 1.7709 - accuracy: 0.3753\n",
            "Epoch 22/100\n",
            "1563/1563 [==============================] - 5s 3ms/step - loss: 1.7665 - accuracy: 0.3760\n",
            "Epoch 23/100\n",
            "1563/1563 [==============================] - 5s 3ms/step - loss: 1.7618 - accuracy: 0.3792\n",
            "Epoch 24/100\n",
            "1563/1563 [==============================] - 5s 3ms/step - loss: 1.7577 - accuracy: 0.3793\n",
            "Epoch 25/100\n",
            "1563/1563 [==============================] - 5s 3ms/step - loss: 1.7534 - accuracy: 0.3819\n",
            "Epoch 26/100\n",
            "1563/1563 [==============================] - 5s 3ms/step - loss: 1.7493 - accuracy: 0.3825\n",
            "Epoch 27/100\n",
            "1563/1563 [==============================] - 5s 3ms/step - loss: 1.7452 - accuracy: 0.3868\n",
            "Epoch 28/100\n",
            "1563/1563 [==============================] - 5s 3ms/step - loss: 1.7411 - accuracy: 0.3886\n",
            "Epoch 29/100\n",
            "1563/1563 [==============================] - 5s 3ms/step - loss: 1.7373 - accuracy: 0.3903\n",
            "Epoch 30/100\n",
            "1563/1563 [==============================] - 5s 3ms/step - loss: 1.7336 - accuracy: 0.3925\n",
            "Epoch 31/100\n",
            "1563/1563 [==============================] - 5s 3ms/step - loss: 1.7304 - accuracy: 0.3926\n",
            "Epoch 32/100\n",
            "1563/1563 [==============================] - 5s 3ms/step - loss: 1.7269 - accuracy: 0.3947\n",
            "Epoch 33/100\n",
            "1563/1563 [==============================] - 5s 3ms/step - loss: 1.7238 - accuracy: 0.3952\n",
            "Epoch 34/100\n",
            "1563/1563 [==============================] - 5s 3ms/step - loss: 1.7208 - accuracy: 0.3986\n",
            "Epoch 35/100\n",
            "1563/1563 [==============================] - 5s 3ms/step - loss: 1.7180 - accuracy: 0.3984\n",
            "Epoch 36/100\n",
            "1563/1563 [==============================] - 5s 3ms/step - loss: 1.7151 - accuracy: 0.3994\n",
            "Epoch 37/100\n",
            "1563/1563 [==============================] - 5s 3ms/step - loss: 1.7121 - accuracy: 0.4009\n",
            "Epoch 38/100\n",
            "1563/1563 [==============================] - 5s 3ms/step - loss: 1.7094 - accuracy: 0.4028\n",
            "Epoch 39/100\n",
            "1563/1563 [==============================] - 5s 3ms/step - loss: 1.7067 - accuracy: 0.4032\n",
            "Epoch 40/100\n",
            "1563/1563 [==============================] - 5s 3ms/step - loss: 1.7043 - accuracy: 0.4044\n",
            "Epoch 41/100\n",
            "1563/1563 [==============================] - 5s 3ms/step - loss: 1.7018 - accuracy: 0.4043\n",
            "Epoch 42/100\n",
            "1563/1563 [==============================] - 5s 3ms/step - loss: 1.6994 - accuracy: 0.4062\n",
            "Epoch 43/100\n",
            "1563/1563 [==============================] - 5s 3ms/step - loss: 1.6972 - accuracy: 0.4068\n",
            "Epoch 44/100\n",
            "1563/1563 [==============================] - 5s 3ms/step - loss: 1.6949 - accuracy: 0.4065\n",
            "Epoch 45/100\n",
            "1563/1563 [==============================] - 5s 3ms/step - loss: 1.6927 - accuracy: 0.4084\n",
            "Epoch 46/100\n",
            "1563/1563 [==============================] - 5s 4ms/step - loss: 1.6905 - accuracy: 0.4087\n",
            "Epoch 47/100\n",
            "1563/1563 [==============================] - 5s 3ms/step - loss: 1.6885 - accuracy: 0.4098\n",
            "Epoch 48/100\n",
            "1563/1563 [==============================] - 5s 3ms/step - loss: 1.6865 - accuracy: 0.4118\n",
            "Epoch 49/100\n",
            "1563/1563 [==============================] - 5s 3ms/step - loss: 1.6845 - accuracy: 0.4109\n",
            "Epoch 50/100\n",
            "1563/1563 [==============================] - 5s 3ms/step - loss: 1.6827 - accuracy: 0.4120\n",
            "Epoch 51/100\n",
            "1563/1563 [==============================] - 5s 3ms/step - loss: 1.6807 - accuracy: 0.4126\n",
            "Epoch 52/100\n",
            "1563/1563 [==============================] - 5s 3ms/step - loss: 1.6791 - accuracy: 0.4125\n",
            "Epoch 53/100\n",
            "1563/1563 [==============================] - 5s 3ms/step - loss: 1.6773 - accuracy: 0.4140\n",
            "Epoch 54/100\n",
            "1563/1563 [==============================] - 5s 3ms/step - loss: 1.6757 - accuracy: 0.4142\n",
            "Epoch 55/100\n",
            "1563/1563 [==============================] - 5s 3ms/step - loss: 1.6740 - accuracy: 0.4141\n",
            "Epoch 56/100\n",
            "1563/1563 [==============================] - 5s 3ms/step - loss: 1.6722 - accuracy: 0.4149\n",
            "Epoch 57/100\n",
            "1563/1563 [==============================] - 5s 3ms/step - loss: 1.6708 - accuracy: 0.4163\n",
            "Epoch 58/100\n",
            "1563/1563 [==============================] - 5s 3ms/step - loss: 1.6688 - accuracy: 0.4161\n",
            "Epoch 59/100\n",
            "1563/1563 [==============================] - 5s 3ms/step - loss: 1.6672 - accuracy: 0.4168\n",
            "Epoch 60/100\n",
            "1563/1563 [==============================] - 5s 3ms/step - loss: 1.6653 - accuracy: 0.4176\n",
            "Epoch 61/100\n",
            "1563/1563 [==============================] - 5s 3ms/step - loss: 1.6634 - accuracy: 0.4181\n",
            "Epoch 62/100\n",
            "1563/1563 [==============================] - 5s 3ms/step - loss: 1.6616 - accuracy: 0.4184\n",
            "Epoch 63/100\n",
            "1563/1563 [==============================] - 5s 3ms/step - loss: 1.6601 - accuracy: 0.4189\n",
            "Epoch 64/100\n",
            "1563/1563 [==============================] - 5s 3ms/step - loss: 1.6583 - accuracy: 0.4199\n",
            "Epoch 65/100\n",
            "1563/1563 [==============================] - 5s 3ms/step - loss: 1.6567 - accuracy: 0.4201\n",
            "Epoch 66/100\n",
            "1563/1563 [==============================] - 5s 3ms/step - loss: 1.6553 - accuracy: 0.4218\n",
            "Epoch 67/100\n",
            "1563/1563 [==============================] - 5s 3ms/step - loss: 1.6537 - accuracy: 0.4215\n",
            "Epoch 68/100\n",
            "1563/1563 [==============================] - 5s 3ms/step - loss: 1.6521 - accuracy: 0.4223\n",
            "Epoch 69/100\n",
            "1563/1563 [==============================] - 5s 3ms/step - loss: 1.6508 - accuracy: 0.4228\n",
            "Epoch 70/100\n",
            "1563/1563 [==============================] - 5s 3ms/step - loss: 1.6490 - accuracy: 0.4233\n",
            "Epoch 71/100\n",
            "1563/1563 [==============================] - 5s 3ms/step - loss: 1.6475 - accuracy: 0.4233\n",
            "Epoch 72/100\n",
            "1563/1563 [==============================] - 5s 3ms/step - loss: 1.6461 - accuracy: 0.4242\n",
            "Epoch 73/100\n",
            "1563/1563 [==============================] - 5s 3ms/step - loss: 1.6447 - accuracy: 0.4252\n",
            "Epoch 74/100\n",
            "1563/1563 [==============================] - 5s 3ms/step - loss: 1.6434 - accuracy: 0.4259\n",
            "Epoch 75/100\n",
            "1563/1563 [==============================] - 5s 3ms/step - loss: 1.6420 - accuracy: 0.4261\n",
            "Epoch 76/100\n",
            "1563/1563 [==============================] - 5s 3ms/step - loss: 1.6407 - accuracy: 0.4266\n",
            "Epoch 77/100\n",
            "1563/1563 [==============================] - 5s 3ms/step - loss: 1.6393 - accuracy: 0.4277\n",
            "Epoch 78/100\n",
            "1563/1563 [==============================] - 5s 3ms/step - loss: 1.6382 - accuracy: 0.4273\n",
            "Epoch 79/100\n",
            "1563/1563 [==============================] - 5s 3ms/step - loss: 1.6369 - accuracy: 0.4280\n",
            "Epoch 80/100\n",
            "1563/1563 [==============================] - 5s 3ms/step - loss: 1.6356 - accuracy: 0.4291\n",
            "Epoch 81/100\n",
            "1563/1563 [==============================] - 5s 3ms/step - loss: 1.6347 - accuracy: 0.4292\n",
            "Epoch 82/100\n",
            "1563/1563 [==============================] - 5s 3ms/step - loss: 1.6333 - accuracy: 0.4297\n",
            "Epoch 83/100\n",
            "1563/1563 [==============================] - 5s 3ms/step - loss: 1.6323 - accuracy: 0.4293\n",
            "Epoch 84/100\n",
            "1563/1563 [==============================] - 5s 3ms/step - loss: 1.6311 - accuracy: 0.4298\n",
            "Epoch 85/100\n",
            "1563/1563 [==============================] - 5s 3ms/step - loss: 1.6303 - accuracy: 0.4294\n",
            "Epoch 86/100\n",
            "1563/1563 [==============================] - 5s 3ms/step - loss: 1.6290 - accuracy: 0.4313\n",
            "Epoch 87/100\n",
            "1563/1563 [==============================] - 5s 3ms/step - loss: 1.6280 - accuracy: 0.4306\n",
            "Epoch 88/100\n",
            "1563/1563 [==============================] - 5s 3ms/step - loss: 1.6270 - accuracy: 0.4319\n",
            "Epoch 89/100\n",
            "1563/1563 [==============================] - 5s 3ms/step - loss: 1.6258 - accuracy: 0.4318\n",
            "Epoch 90/100\n",
            "1563/1563 [==============================] - 5s 3ms/step - loss: 1.6249 - accuracy: 0.4324\n",
            "Epoch 91/100\n",
            "1563/1563 [==============================] - 5s 3ms/step - loss: 1.6239 - accuracy: 0.4326\n",
            "Epoch 92/100\n",
            "1563/1563 [==============================] - 5s 3ms/step - loss: 1.6229 - accuracy: 0.4331\n",
            "Epoch 93/100\n",
            "1563/1563 [==============================] - 5s 3ms/step - loss: 1.6219 - accuracy: 0.4340\n",
            "Epoch 94/100\n",
            "1563/1563 [==============================] - 5s 3ms/step - loss: 1.6210 - accuracy: 0.4331\n",
            "Epoch 95/100\n",
            "1563/1563 [==============================] - 5s 3ms/step - loss: 1.6202 - accuracy: 0.4341\n",
            "Epoch 96/100\n",
            "1563/1563 [==============================] - 5s 3ms/step - loss: 1.6193 - accuracy: 0.4348\n",
            "Epoch 97/100\n",
            "1563/1563 [==============================] - 5s 3ms/step - loss: 1.6183 - accuracy: 0.4352\n",
            "Epoch 98/100\n",
            "1563/1563 [==============================] - 5s 3ms/step - loss: 1.6172 - accuracy: 0.4361\n",
            "Epoch 99/100\n",
            "1563/1563 [==============================] - 5s 3ms/step - loss: 1.6163 - accuracy: 0.4361\n",
            "Epoch 100/100\n",
            "1563/1563 [==============================] - 5s 3ms/step - loss: 1.6155 - accuracy: 0.4366\n"
          ]
        }
      ]
    },
    {
      "cell_type": "code",
      "metadata": {
        "id": "H2KAb6bPtY1l"
      },
      "source": [
        "classes = ['airplane'\t\t\t\t\t\t\t\t\t\t\n",
        ",'automobile'\t\t\t\t\t\t\t\t\t\t\n",
        ",'bird'\t\t\t\t\t\t\t\t\t\t\n",
        ",'cat'\t\t\t\t\t\t\t\t\t\t\n",
        ",'deer'\t\t\t\t\t\t\t\t\t\t\n",
        ",'dog'\t\t\t\t\t\t\t\t\t\t\n",
        ",'frog'\t\t\t\t\t\t\t\t\t\t\n",
        ",'horse'\t\t\t\t\t\t\t\t\t\t\n",
        ",'ship'\t\t\t\t\t\t\t\t\t\t\n",
        ",'truck']"
      ],
      "execution_count": 8,
      "outputs": []
    },
    {
      "cell_type": "code",
      "metadata": {
        "id": "LE5rCppZxq54"
      },
      "source": [
        "pred = model.predict(xtest)"
      ],
      "execution_count": 9,
      "outputs": []
    },
    {
      "cell_type": "code",
      "metadata": {
        "colab": {
          "base_uri": "https://localhost:8080/"
        },
        "id": "LpW4Px0uxxdE",
        "outputId": "5747250f-0d77-4c35-ccb6-54999c580554"
      },
      "source": [
        "tf.argmax(pred[4])"
      ],
      "execution_count": 10,
      "outputs": [
        {
          "output_type": "execute_result",
          "data": {
            "text/plain": [
              "<tf.Tensor: shape=(), dtype=int64, numpy=4>"
            ]
          },
          "metadata": {},
          "execution_count": 10
        }
      ]
    },
    {
      "cell_type": "code",
      "metadata": {
        "colab": {
          "base_uri": "https://localhost:8080/"
        },
        "id": "ZPqFEhjsx3Wl",
        "outputId": "6267823b-9b7f-4eef-8c1c-0f7c37ea1c64"
      },
      "source": [
        "ytest[4]"
      ],
      "execution_count": 11,
      "outputs": [
        {
          "output_type": "execute_result",
          "data": {
            "text/plain": [
              "array([6.], dtype=float32)"
            ]
          },
          "metadata": {},
          "execution_count": 11
        }
      ]
    },
    {
      "cell_type": "code",
      "metadata": {
        "colab": {
          "base_uri": "https://localhost:8080/"
        },
        "id": "sZjNLMtWyMvb",
        "outputId": "5a325107-3199-4ffc-a705-10e7cb84f007"
      },
      "source": [
        "model.evaluate(xtest,ytest)"
      ],
      "execution_count": 12,
      "outputs": [
        {
          "output_type": "stream",
          "name": "stdout",
          "text": [
            "313/313 [==============================] - 1s 3ms/step - loss: 1.6324 - accuracy: 0.4273\n"
          ]
        },
        {
          "output_type": "execute_result",
          "data": {
            "text/plain": [
              "[1.632371425628662, 0.42730000615119934]"
            ]
          },
          "metadata": {},
          "execution_count": 12
        }
      ]
    },
    {
      "cell_type": "code",
      "metadata": {
        "id": "SG7ncKUiybje"
      },
      "source": [
        ""
      ],
      "execution_count": 12,
      "outputs": []
    },
    {
      "cell_type": "markdown",
      "metadata": {
        "id": "G4FwJoF5ygrS"
      },
      "source": [
        "# Building the model with convolutional network"
      ]
    },
    {
      "cell_type": "code",
      "metadata": {
        "colab": {
          "base_uri": "https://localhost:8080/"
        },
        "id": "i9a2PhE5yo7S",
        "outputId": "a658d110-ad0f-4038-e9ba-cf7b2046e4a5"
      },
      "source": [
        "conv_model = keras.Sequential([\n",
        "                               keras.Input(shape=(32,32,3))\n",
        "                               ,keras.layers.Conv2D(32,2,activation='relu'),\n",
        "                               keras.layers.MaxPooling2D(pool_size=(2,2)),\n",
        "                               keras.layers.Conv2D(32,3,activation = 'relu'),\n",
        "                              # keras.layers.MaxPooling2D(),\n",
        "                              # keras.layers.Conv2D(32,3,activation = 'relu'),\n",
        "                               keras.layers.Flatten(),\n",
        "                               keras.layers.Dense(32,activation = 'relu'),\n",
        "                               keras.layers.Dense(10,activation='softmax')\n",
        "])\n",
        "\n",
        "conv_model.compile(\n",
        "    loss = keras.losses.SparseCategoricalCrossentropy(),\n",
        "    optimizer = keras.optimizers.Adam(),\n",
        "    metrics = ['accuracy']\n",
        ")\n",
        "\n",
        "history = conv_model.fit(xtrain,ytrain,epochs = 100)\n"
      ],
      "execution_count": 14,
      "outputs": [
        {
          "output_type": "stream",
          "name": "stdout",
          "text": [
            "1563/1563 [==============================] - 9s 6ms/step - loss: 0.1033 - accuracy: 0.9644\n",
            "Epoch 99/100\n",
            "1563/1563 [==============================] - 9s 6ms/step - loss: 0.0934 - accuracy: 0.9679\n",
            "Epoch 100/100\n",
            "1563/1563 [==============================] - 9s 6ms/step - loss: 0.0947 - accuracy: 0.9669\n"
          ]
        }
      ]
    },
    {
      "cell_type": "code",
      "metadata": {
        "colab": {
          "base_uri": "https://localhost:8080/"
        },
        "id": "lFegB6yqRdts",
        "outputId": "f5024d5c-a0d7-42bb-a65b-31eab06c7207"
      },
      "source": [
        "conv_model.evaluate(xtest,ytest)"
      ],
      "execution_count": 16,
      "outputs": [
        {
          "output_type": "stream",
          "name": "stdout",
          "text": [
            "313/313 [==============================] - 2s 4ms/step - loss: 5.2262 - accuracy: 0.6024\n"
          ]
        },
        {
          "output_type": "execute_result",
          "data": {
            "text/plain": [
              "[5.226228713989258, 0.602400004863739]"
            ]
          },
          "metadata": {},
          "execution_count": 16
        }
      ]
    },
    {
      "cell_type": "code",
      "metadata": {
        "id": "A20cCqO-I3Jl",
        "colab": {
          "base_uri": "https://localhost:8080/",
          "height": 298
        },
        "outputId": "3620967a-31b2-4328-9e74-11773e0f4d21"
      },
      "source": [
        "pd.DataFrame(history.history).plot(title = 'graph')"
      ],
      "execution_count": 15,
      "outputs": [
        {
          "output_type": "execute_result",
          "data": {
            "text/plain": [
              "<matplotlib.axes._subplots.AxesSubplot at 0x7f2c181eaa50>"
            ]
          },
          "metadata": {},
          "execution_count": 15
        },
        {
          "output_type": "display_data",
          "data": {
            "image/png": "[encoded data removed]",
            "text/plain": [
              "<Figure size 432x288 with 1 Axes>"
            ]
          },
          "metadata": {
            "needs_background": "light"
          }
        }
      ]
    }
  ]
}